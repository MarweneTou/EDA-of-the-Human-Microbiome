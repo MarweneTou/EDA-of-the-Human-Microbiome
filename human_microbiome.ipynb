{
 "cells": [
  {
   "cell_type": "code",
   "execution_count": 89,
   "metadata": {},
   "outputs": [],
   "source": [
    "import pandas as pd \n",
    "import matplotlib.pyplot as plt\n",
    "import seaborn as sns\n",
    "import requests\n",
    "from bs4 import BeautifulSoup\n",
    "%matplotlib inline\n",
    "import copy"
   ]
  },
  {
   "cell_type": "code",
   "execution_count": 90,
   "metadata": {},
   "outputs": [],
   "source": [
    "data = pd.read_csv(\"project_catalog.csv\")"
   ]
  },
  {
   "cell_type": "markdown",
   "metadata": {},
   "source": [
    "*Objective\n",
    "Here, we will try to answer some interesting questions, such as:\n",
    "Human body site showing most microbial diversity:\n",
    "The most common genus of microorganism found in the human body\n",
    "Most ubiquitous microbe in the human body*"
   ]
  },
  {
   "cell_type": "code",
   "execution_count": 91,
   "metadata": {},
   "outputs": [
    {
     "data": {
      "text/html": [
       "<div>\n",
       "<style scoped>\n",
       "    .dataframe tbody tr th:only-of-type {\n",
       "        vertical-align: middle;\n",
       "    }\n",
       "\n",
       "    .dataframe tbody tr th {\n",
       "        vertical-align: top;\n",
       "    }\n",
       "\n",
       "    .dataframe thead th {\n",
       "        text-align: right;\n",
       "    }\n",
       "</style>\n",
       "<table border=\"1\" class=\"dataframe\">\n",
       "  <thead>\n",
       "    <tr style=\"text-align: right;\">\n",
       "      <th></th>\n",
       "      <th>HMP ID</th>\n",
       "      <th>GOLD ID</th>\n",
       "      <th>Organism Name</th>\n",
       "      <th>Domain</th>\n",
       "      <th>NCBI Superkingdom</th>\n",
       "      <th>HMP Isolation Body Site</th>\n",
       "      <th>Project Status</th>\n",
       "      <th>Current Finishing Level</th>\n",
       "      <th>NCBI Submission Status</th>\n",
       "      <th>NCBI Project ID</th>\n",
       "      <th>Genbank ID</th>\n",
       "      <th>Gene Count</th>\n",
       "      <th>IMG/HMP ID</th>\n",
       "      <th>HOMD ID</th>\n",
       "      <th>Sequencing Center</th>\n",
       "      <th>Funding Source</th>\n",
       "      <th>Strain Repository ID</th>\n",
       "    </tr>\n",
       "  </thead>\n",
       "  <tbody>\n",
       "    <tr>\n",
       "      <th>0</th>\n",
       "      <td>1</td>\n",
       "      <td>Gi03551</td>\n",
       "      <td>Abiotrophia defectiva ATCC 49176</td>\n",
       "      <td>BACTERIAL</td>\n",
       "      <td>Bacteria</td>\n",
       "      <td>oral</td>\n",
       "      <td>Complete</td>\n",
       "      <td>Level 3: Improved-High-Quality Draft</td>\n",
       "      <td>6. annotation (and sequence) public on NCBI site</td>\n",
       "      <td>33011</td>\n",
       "      <td>ACIN00000000</td>\n",
       "      <td>1950</td>\n",
       "      <td>643886181</td>\n",
       "      <td>HOMD: tax_389</td>\n",
       "      <td>Washington University Genome Sequencing Center</td>\n",
       "      <td>NIH-HMP Jumpstart Supplement</td>\n",
       "      <td>ATCC 49176, CIP 103242</td>\n",
       "    </tr>\n",
       "    <tr>\n",
       "      <th>1</th>\n",
       "      <td>4</td>\n",
       "      <td>Gi03555</td>\n",
       "      <td>Achromobacter piechaudii ATCC 43553</td>\n",
       "      <td>BACTERIAL</td>\n",
       "      <td>Bacteria</td>\n",
       "      <td>airways</td>\n",
       "      <td>Complete</td>\n",
       "      <td>Level 2: High-Quality Draft</td>\n",
       "      <td>6. annotation (and sequence) public on NCBI site</td>\n",
       "      <td>46343</td>\n",
       "      <td>ADMS00000000</td>\n",
       "      <td>5755</td>\n",
       "      <td>647000200</td>\n",
       "      <td>NaN</td>\n",
       "      <td>Baylor College of Medicine</td>\n",
       "      <td>NIH-HMP Jumpstart Supplement</td>\n",
       "      <td>ATCC 43553, CIP 55774, LMG 6100</td>\n",
       "    </tr>\n",
       "    <tr>\n",
       "      <th>2</th>\n",
       "      <td>5</td>\n",
       "      <td>Gi03554</td>\n",
       "      <td>Achromobacter xylosoxidans C54</td>\n",
       "      <td>BACTERIAL</td>\n",
       "      <td>Bacteria</td>\n",
       "      <td>airways</td>\n",
       "      <td>Complete</td>\n",
       "      <td>Level 5: Non-contiguous Finished</td>\n",
       "      <td>6. annotation (and sequence) public on NCBI site</td>\n",
       "      <td>38739</td>\n",
       "      <td>ACRC00000000</td>\n",
       "      <td>6010</td>\n",
       "      <td>0</td>\n",
       "      <td>HOMD: tax_343</td>\n",
       "      <td>Broad Institute</td>\n",
       "      <td>NIH-HMP Jumpstart Supplement</td>\n",
       "      <td>BEI HM-235</td>\n",
       "    </tr>\n",
       "    <tr>\n",
       "      <th>3</th>\n",
       "      <td>10</td>\n",
       "      <td>Gi03422</td>\n",
       "      <td>Acinetobacter baumannii ATCC 19606</td>\n",
       "      <td>BACTERIAL</td>\n",
       "      <td>Bacteria</td>\n",
       "      <td>urogenital_tract</td>\n",
       "      <td>Complete</td>\n",
       "      <td>Level 2: High-Quality Draft</td>\n",
       "      <td>6. annotation (and sequence) public on NCBI site</td>\n",
       "      <td>38509</td>\n",
       "      <td>ACQB00000000</td>\n",
       "      <td>3832</td>\n",
       "      <td>647533101</td>\n",
       "      <td>HOMD: tax_554</td>\n",
       "      <td>Broad Institute</td>\n",
       "      <td>NIH-HMP Jumpstart Supplement</td>\n",
       "      <td>ATCC 19606, DSM 6974</td>\n",
       "    </tr>\n",
       "    <tr>\n",
       "      <th>4</th>\n",
       "      <td>12</td>\n",
       "      <td>Gi03421</td>\n",
       "      <td>Acinetobacter calcoaceticus RUH2202</td>\n",
       "      <td>BACTERIAL</td>\n",
       "      <td>Bacteria</td>\n",
       "      <td>skin</td>\n",
       "      <td>Complete</td>\n",
       "      <td>Level 2: High-Quality Draft</td>\n",
       "      <td>6. annotation (and sequence) public on NCBI site</td>\n",
       "      <td>38337</td>\n",
       "      <td>ACPK00000000</td>\n",
       "      <td>3632</td>\n",
       "      <td>646206267</td>\n",
       "      <td>NaN</td>\n",
       "      <td>Broad Institute</td>\n",
       "      <td>NIH-HMP Jumpstart Supplement</td>\n",
       "      <td>LMG 10517</td>\n",
       "    </tr>\n",
       "  </tbody>\n",
       "</table>\n",
       "</div>"
      ],
      "text/plain": [
       "   HMP ID  GOLD ID                        Organism Name     Domain  \\\n",
       "0       1  Gi03551     Abiotrophia defectiva ATCC 49176  BACTERIAL   \n",
       "1       4  Gi03555  Achromobacter piechaudii ATCC 43553  BACTERIAL   \n",
       "2       5  Gi03554       Achromobacter xylosoxidans C54  BACTERIAL   \n",
       "3      10  Gi03422   Acinetobacter baumannii ATCC 19606  BACTERIAL   \n",
       "4      12  Gi03421  Acinetobacter calcoaceticus RUH2202  BACTERIAL   \n",
       "\n",
       "  NCBI Superkingdom HMP Isolation Body Site Project Status  \\\n",
       "0          Bacteria                    oral       Complete   \n",
       "1          Bacteria                 airways       Complete   \n",
       "2          Bacteria                 airways       Complete   \n",
       "3          Bacteria        urogenital_tract       Complete   \n",
       "4          Bacteria                    skin       Complete   \n",
       "\n",
       "                Current Finishing Level  \\\n",
       "0  Level 3: Improved-High-Quality Draft   \n",
       "1           Level 2: High-Quality Draft   \n",
       "2      Level 5: Non-contiguous Finished   \n",
       "3           Level 2: High-Quality Draft   \n",
       "4           Level 2: High-Quality Draft   \n",
       "\n",
       "                             NCBI Submission Status  NCBI Project ID  \\\n",
       "0  6. annotation (and sequence) public on NCBI site            33011   \n",
       "1  6. annotation (and sequence) public on NCBI site            46343   \n",
       "2  6. annotation (and sequence) public on NCBI site            38739   \n",
       "3  6. annotation (and sequence) public on NCBI site            38509   \n",
       "4  6. annotation (and sequence) public on NCBI site            38337   \n",
       "\n",
       "     Genbank ID  Gene Count  IMG/HMP ID        HOMD ID  \\\n",
       "0  ACIN00000000        1950   643886181  HOMD: tax_389   \n",
       "1  ADMS00000000        5755   647000200            NaN   \n",
       "2  ACRC00000000        6010           0  HOMD: tax_343   \n",
       "3  ACQB00000000        3832   647533101  HOMD: tax_554   \n",
       "4  ACPK00000000        3632   646206267            NaN   \n",
       "\n",
       "                                Sequencing Center  \\\n",
       "0  Washington University Genome Sequencing Center   \n",
       "1                      Baylor College of Medicine   \n",
       "2                                 Broad Institute   \n",
       "3                                 Broad Institute   \n",
       "4                                 Broad Institute   \n",
       "\n",
       "                 Funding Source             Strain Repository ID  \n",
       "0  NIH-HMP Jumpstart Supplement           ATCC 49176, CIP 103242  \n",
       "1  NIH-HMP Jumpstart Supplement  ATCC 43553, CIP 55774, LMG 6100  \n",
       "2  NIH-HMP Jumpstart Supplement                       BEI HM-235  \n",
       "3  NIH-HMP Jumpstart Supplement             ATCC 19606, DSM 6974  \n",
       "4  NIH-HMP Jumpstart Supplement                        LMG 10517  "
      ]
     },
     "execution_count": 91,
     "metadata": {},
     "output_type": "execute_result"
    }
   ],
   "source": [
    "data.head()"
   ]
  },
  {
   "cell_type": "code",
   "execution_count": 92,
   "metadata": {},
   "outputs": [
    {
     "name": "stdout",
     "output_type": "stream",
     "text": [
      "<class 'pandas.core.frame.DataFrame'>\n",
      "RangeIndex: 2915 entries, 0 to 2914\n",
      "Data columns (total 17 columns):\n",
      " #   Column                   Non-Null Count  Dtype \n",
      "---  ------                   --------------  ----- \n",
      " 0   HMP ID                   2915 non-null   int64 \n",
      " 1   GOLD ID                  1783 non-null   object\n",
      " 2   Organism Name            2915 non-null   object\n",
      " 3   Domain                   2712 non-null   object\n",
      " 4   NCBI Superkingdom        2751 non-null   object\n",
      " 5   HMP Isolation Body Site  2915 non-null   object\n",
      " 6   Project Status           2915 non-null   object\n",
      " 7   Current Finishing Level  1579 non-null   object\n",
      " 8   NCBI Submission Status   2915 non-null   object\n",
      " 9   NCBI Project ID          2915 non-null   int64 \n",
      " 10  Genbank ID               1579 non-null   object\n",
      " 11  Gene Count               2915 non-null   int64 \n",
      " 12  IMG/HMP ID               2915 non-null   int64 \n",
      " 13  HOMD ID                  397 non-null    object\n",
      " 14  Sequencing Center        2911 non-null   object\n",
      " 15  Funding Source           2915 non-null   object\n",
      " 16  Strain Repository ID     1377 non-null   object\n",
      "dtypes: int64(4), object(13)\n",
      "memory usage: 387.3+ KB\n"
     ]
    }
   ],
   "source": [
    "data.info()"
   ]
  },
  {
   "cell_type": "code",
   "execution_count": 93,
   "metadata": {},
   "outputs": [
    {
     "data": {
      "text/plain": [
       "Text(0, 0.5, 'number of identified microbes')"
      ]
     },
     "execution_count": 93,
     "metadata": {},
     "output_type": "execute_result"
    },
    {
     "data": {
      "image/png": "[encoded data removed]",
      "text/plain": [
       "<Figure size 432x288 with 1 Axes>"
      ]
     },
     "metadata": {
      "needs_background": "light"
     },
     "output_type": "display_data"
    }
   ],
   "source": [
    "sns.countplot(data=data, x=\"Domain\")\n",
    "plt.xlabel(\"Domain of microbes inhabiting the human body\")\n",
    "plt.ylabel(\"number of identified microbes\")"
   ]
  },
  {
   "cell_type": "markdown",
   "metadata": {},
   "source": [
    "*The human microbiome is dominated by Bacteria*"
   ]
  },
  {
   "cell_type": "code",
   "execution_count": 94,
   "metadata": {},
   "outputs": [
    {
     "data": {
      "text/plain": [
       "Text(0, 0.5, 'number of identified microbes')"
      ]
     },
     "execution_count": 94,
     "metadata": {},
     "output_type": "execute_result"
    },
    {
     "data": {
      "image/png": "[encoded data removed]",
      "text/plain": [
       "<Figure size 720x432 with 1 Axes>"
      ]
     },
     "metadata": {
      "needs_background": "light"
     },
     "output_type": "display_data"
    }
   ],
   "source": [
    "plt.figure(figsize=(10,6))\n",
    "sns.countplot(data=data, x=\"HMP Isolation Body Site\") \n",
    "plt.xticks(rotation=90)\n",
    "\n",
    "plt.xlabel(\"Body sites\")\n",
    "plt.ylabel(\"number of identified microbes\")"
   ]
  },
  {
   "cell_type": "markdown",
   "metadata": {},
   "source": [
    "*most diversity shown in the gastrointestinal tract*"
   ]
  },
  {
   "cell_type": "code",
   "execution_count": 95,
   "metadata": {},
   "outputs": [],
   "source": [
    "def get_genus(row):\n",
    "    genus = row.split(\" \")[0]\n",
    "    return genus"
   ]
  },
  {
   "cell_type": "code",
   "execution_count": 96,
   "metadata": {},
   "outputs": [],
   "source": [
    "data[\"Genus\"] = data[\"Organism Name\"].apply(get_genus)"
   ]
  },
  {
   "cell_type": "code",
   "execution_count": 109,
   "metadata": {},
   "outputs": [
    {
     "data": {
      "text/plain": [
       "Text(0, 0.5, 'number of identified microbes')"
      ]
     },
     "execution_count": 109,
     "metadata": {},
     "output_type": "execute_result"
    },
    {
     "data": {
      "image/png": "[encoded data removed]",
      "text/plain": [
       "<Figure size 1080x504 with 1 Axes>"
      ]
     },
     "metadata": {
      "needs_background": "light"
     },
     "output_type": "display_data"
    }
   ],
   "source": [
    "plt.figure(figsize=(15,7))\n",
    "values = data.Genus.value_counts()   \n",
    "most_abudant_genus_df = data[data.Genus.isin(values.index[values.gt(70)])]\n",
    "most_abudant_genus_df = most_abudant_genus_df[most_abudant_genus_df[\"HMP Isolation Body Site\"] != \"unknown\"]    \n",
    "\n",
    "sns.countplot(data=most_abudant_genus_df, x=\"HMP Isolation Body Site\", hue=\"Genus\")\n",
    "plt.legend(bbox_to_anchor=(1, 1)) \n",
    "plt.xlabel(\"Distribution of the identified genera in body sites\")\n",
    "plt.ylabel(\"number of identified microbes\")\n"
   ]
  },
  {
   "cell_type": "markdown",
   "metadata": {},
   "source": [
    "*The graph shows the most abundant microbes by body site*"
   ]
  },
  {
   "cell_type": "code",
   "execution_count": 116,
   "metadata": {},
   "outputs": [
    {
     "data": {
      "text/html": [
       "<div>\n",
       "<style scoped>\n",
       "    .dataframe tbody tr th:only-of-type {\n",
       "        vertical-align: middle;\n",
       "    }\n",
       "\n",
       "    .dataframe tbody tr th {\n",
       "        vertical-align: top;\n",
       "    }\n",
       "\n",
       "    .dataframe thead th {\n",
       "        text-align: right;\n",
       "    }\n",
       "</style>\n",
       "<table border=\"1\" class=\"dataframe\">\n",
       "  <thead>\n",
       "    <tr style=\"text-align: right;\">\n",
       "      <th></th>\n",
       "      <th>HMP ID</th>\n",
       "      <th>GOLD ID</th>\n",
       "      <th>Organism Name</th>\n",
       "      <th>Domain</th>\n",
       "      <th>NCBI Superkingdom</th>\n",
       "      <th>HMP Isolation Body Site</th>\n",
       "      <th>Project Status</th>\n",
       "      <th>Current Finishing Level</th>\n",
       "      <th>NCBI Submission Status</th>\n",
       "      <th>NCBI Project ID</th>\n",
       "      <th>Genbank ID</th>\n",
       "      <th>Gene Count</th>\n",
       "      <th>IMG/HMP ID</th>\n",
       "      <th>HOMD ID</th>\n",
       "      <th>Sequencing Center</th>\n",
       "      <th>Funding Source</th>\n",
       "      <th>Strain Repository ID</th>\n",
       "      <th>Genus</th>\n",
       "    </tr>\n",
       "  </thead>\n",
       "  <tbody>\n",
       "    <tr>\n",
       "      <th>0</th>\n",
       "      <td>1</td>\n",
       "      <td>Gi03551</td>\n",
       "      <td>Abiotrophia defectiva ATCC 49176</td>\n",
       "      <td>BACTERIAL</td>\n",
       "      <td>Bacteria</td>\n",
       "      <td>oral</td>\n",
       "      <td>Complete</td>\n",
       "      <td>Level 3: Improved-High-Quality Draft</td>\n",
       "      <td>6. annotation (and sequence) public on NCBI site</td>\n",
       "      <td>33011</td>\n",
       "      <td>ACIN00000000</td>\n",
       "      <td>1950</td>\n",
       "      <td>643886181</td>\n",
       "      <td>HOMD: tax_389</td>\n",
       "      <td>Washington University Genome Sequencing Center</td>\n",
       "      <td>NIH-HMP Jumpstart Supplement</td>\n",
       "      <td>ATCC 49176, CIP 103242</td>\n",
       "      <td>Abiotrophia</td>\n",
       "    </tr>\n",
       "    <tr>\n",
       "      <th>1</th>\n",
       "      <td>4</td>\n",
       "      <td>Gi03555</td>\n",
       "      <td>Achromobacter piechaudii ATCC 43553</td>\n",
       "      <td>BACTERIAL</td>\n",
       "      <td>Bacteria</td>\n",
       "      <td>airways</td>\n",
       "      <td>Complete</td>\n",
       "      <td>Level 2: High-Quality Draft</td>\n",
       "      <td>6. annotation (and sequence) public on NCBI site</td>\n",
       "      <td>46343</td>\n",
       "      <td>ADMS00000000</td>\n",
       "      <td>5755</td>\n",
       "      <td>647000200</td>\n",
       "      <td>NaN</td>\n",
       "      <td>Baylor College of Medicine</td>\n",
       "      <td>NIH-HMP Jumpstart Supplement</td>\n",
       "      <td>ATCC 43553, CIP 55774, LMG 6100</td>\n",
       "      <td>Achromobacter</td>\n",
       "    </tr>\n",
       "    <tr>\n",
       "      <th>2</th>\n",
       "      <td>5</td>\n",
       "      <td>Gi03554</td>\n",
       "      <td>Achromobacter xylosoxidans C54</td>\n",
       "      <td>BACTERIAL</td>\n",
       "      <td>Bacteria</td>\n",
       "      <td>airways</td>\n",
       "      <td>Complete</td>\n",
       "      <td>Level 5: Non-contiguous Finished</td>\n",
       "      <td>6. annotation (and sequence) public on NCBI site</td>\n",
       "      <td>38739</td>\n",
       "      <td>ACRC00000000</td>\n",
       "      <td>6010</td>\n",
       "      <td>0</td>\n",
       "      <td>HOMD: tax_343</td>\n",
       "      <td>Broad Institute</td>\n",
       "      <td>NIH-HMP Jumpstart Supplement</td>\n",
       "      <td>BEI HM-235</td>\n",
       "      <td>Achromobacter</td>\n",
       "    </tr>\n",
       "    <tr>\n",
       "      <th>3</th>\n",
       "      <td>10</td>\n",
       "      <td>Gi03422</td>\n",
       "      <td>Acinetobacter baumannii ATCC 19606</td>\n",
       "      <td>BACTERIAL</td>\n",
       "      <td>Bacteria</td>\n",
       "      <td>urogenital_tract</td>\n",
       "      <td>Complete</td>\n",
       "      <td>Level 2: High-Quality Draft</td>\n",
       "      <td>6. annotation (and sequence) public on NCBI site</td>\n",
       "      <td>38509</td>\n",
       "      <td>ACQB00000000</td>\n",
       "      <td>3832</td>\n",
       "      <td>647533101</td>\n",
       "      <td>HOMD: tax_554</td>\n",
       "      <td>Broad Institute</td>\n",
       "      <td>NIH-HMP Jumpstart Supplement</td>\n",
       "      <td>ATCC 19606, DSM 6974</td>\n",
       "      <td>Acinetobacter</td>\n",
       "    </tr>\n",
       "    <tr>\n",
       "      <th>4</th>\n",
       "      <td>12</td>\n",
       "      <td>Gi03421</td>\n",
       "      <td>Acinetobacter calcoaceticus RUH2202</td>\n",
       "      <td>BACTERIAL</td>\n",
       "      <td>Bacteria</td>\n",
       "      <td>skin</td>\n",
       "      <td>Complete</td>\n",
       "      <td>Level 2: High-Quality Draft</td>\n",
       "      <td>6. annotation (and sequence) public on NCBI site</td>\n",
       "      <td>38337</td>\n",
       "      <td>ACPK00000000</td>\n",
       "      <td>3632</td>\n",
       "      <td>646206267</td>\n",
       "      <td>NaN</td>\n",
       "      <td>Broad Institute</td>\n",
       "      <td>NIH-HMP Jumpstart Supplement</td>\n",
       "      <td>LMG 10517</td>\n",
       "      <td>Acinetobacter</td>\n",
       "    </tr>\n",
       "  </tbody>\n",
       "</table>\n",
       "</div>"
      ],
      "text/plain": [
       "   HMP ID  GOLD ID                        Organism Name     Domain  \\\n",
       "0       1  Gi03551     Abiotrophia defectiva ATCC 49176  BACTERIAL   \n",
       "1       4  Gi03555  Achromobacter piechaudii ATCC 43553  BACTERIAL   \n",
       "2       5  Gi03554       Achromobacter xylosoxidans C54  BACTERIAL   \n",
       "3      10  Gi03422   Acinetobacter baumannii ATCC 19606  BACTERIAL   \n",
       "4      12  Gi03421  Acinetobacter calcoaceticus RUH2202  BACTERIAL   \n",
       "\n",
       "  NCBI Superkingdom HMP Isolation Body Site Project Status  \\\n",
       "0          Bacteria                    oral       Complete   \n",
       "1          Bacteria                 airways       Complete   \n",
       "2          Bacteria                 airways       Complete   \n",
       "3          Bacteria        urogenital_tract       Complete   \n",
       "4          Bacteria                    skin       Complete   \n",
       "\n",
       "                Current Finishing Level  \\\n",
       "0  Level 3: Improved-High-Quality Draft   \n",
       "1           Level 2: High-Quality Draft   \n",
       "2      Level 5: Non-contiguous Finished   \n",
       "3           Level 2: High-Quality Draft   \n",
       "4           Level 2: High-Quality Draft   \n",
       "\n",
       "                             NCBI Submission Status  NCBI Project ID  \\\n",
       "0  6. annotation (and sequence) public on NCBI site            33011   \n",
       "1  6. annotation (and sequence) public on NCBI site            46343   \n",
       "2  6. annotation (and sequence) public on NCBI site            38739   \n",
       "3  6. annotation (and sequence) public on NCBI site            38509   \n",
       "4  6. annotation (and sequence) public on NCBI site            38337   \n",
       "\n",
       "     Genbank ID  Gene Count  IMG/HMP ID        HOMD ID  \\\n",
       "0  ACIN00000000        1950   643886181  HOMD: tax_389   \n",
       "1  ADMS00000000        5755   647000200            NaN   \n",
       "2  ACRC00000000        6010           0  HOMD: tax_343   \n",
       "3  ACQB00000000        3832   647533101  HOMD: tax_554   \n",
       "4  ACPK00000000        3632   646206267            NaN   \n",
       "\n",
       "                                Sequencing Center  \\\n",
       "0  Washington University Genome Sequencing Center   \n",
       "1                      Baylor College of Medicine   \n",
       "2                                 Broad Institute   \n",
       "3                                 Broad Institute   \n",
       "4                                 Broad Institute   \n",
       "\n",
       "                 Funding Source             Strain Repository ID  \\\n",
       "0  NIH-HMP Jumpstart Supplement           ATCC 49176, CIP 103242   \n",
       "1  NIH-HMP Jumpstart Supplement  ATCC 43553, CIP 55774, LMG 6100   \n",
       "2  NIH-HMP Jumpstart Supplement                       BEI HM-235   \n",
       "3  NIH-HMP Jumpstart Supplement             ATCC 19606, DSM 6974   \n",
       "4  NIH-HMP Jumpstart Supplement                        LMG 10517   \n",
       "\n",
       "           Genus  \n",
       "0    Abiotrophia  \n",
       "1  Achromobacter  \n",
       "2  Achromobacter  \n",
       "3  Acinetobacter  \n",
       "4  Acinetobacter  "
      ]
     },
     "execution_count": 116,
     "metadata": {},
     "output_type": "execute_result"
    }
   ],
   "source": [
    "data.head()"
   ]
  },
  {
   "cell_type": "code",
   "execution_count": 120,
   "metadata": {},
   "outputs": [
    {
     "data": {
      "text/plain": [
       "Text(0.5, 1.0, 'Diversity of eukaryotes at different body sites')"
      ]
     },
     "execution_count": 120,
     "metadata": {},
     "output_type": "execute_result"
    },
    {
     "data": {
      "image/png": "[encoded data removed]",
      "text/plain": [
       "<Figure size 432x288 with 1 Axes>"
      ]
     },
     "metadata": {
      "needs_background": "light"
     },
     "output_type": "display_data"
    }
   ],
   "source": [
    "euk=data.loc[data['Domain']=='EUKARYAL']\n",
    "euk['HMP Isolation Body Site'].unique()\n",
    "euk['HMP Isolation Body Site'].value_counts(ascending=False).plot(kind='bar')\n",
    "plt.ylabel('Number of different eukaryotes')\n",
    "plt.xlabel('Human body sites')\n",
    "plt.title('Diversity of eukaryotes at different body sites')"
   ]
  },
  {
   "cell_type": "markdown",
   "metadata": {},
   "source": [
    "*Eukaryotes are presented in 5 body sites where the highet number is in the blood*"
   ]
  },
  {
   "cell_type": "code",
   "execution_count": 121,
   "metadata": {},
   "outputs": [
    {
     "name": "stdout",
     "output_type": "stream",
     "text": [
      "                   HMP Isolation Body Site\n",
      "Genus                                     \n",
      "Staphylococcus                          11\n",
      "Streptococcus                           10\n",
      "Enterococcus                             9\n",
      "Corynebacterium                          9\n",
      "Actinomyces                              9\n",
      "Propionibacterium                        8\n",
      "Haemophilus                              8\n",
      "Prevotella                               7\n",
      "Fusobacterium                            7\n",
      "Bifidobacterium                          6\n",
      "Klebsiella                               6\n",
      "Lactobacillus                            6\n",
      "Porphyromonas                            6\n",
      "Pseudomonas                              6\n",
      "Neisseria                                6\n",
      "Rothia                                   5\n",
      "Bacteroides                              5\n",
      "Gemella                                  5\n"
     ]
    },
    {
     "data": {
      "text/plain": [
       "Text(0.5, 1.0, 'Number of habitats for different microorganisms')"
      ]
     },
     "execution_count": 121,
     "metadata": {},
     "output_type": "execute_result"
    },
    {
     "data": {
      "image/png": "[encoded data removed]",
      "text/plain": [
       "<Figure size 432x288 with 1 Axes>"
      ]
     },
     "metadata": {
      "needs_background": "light"
     },
     "output_type": "display_data"
    }
   ],
   "source": [
    "z=data.groupby('Genus')['HMP Isolation Body Site'].nunique().sort_values(ascending=False)\n",
    "y=pd.DataFrame(z)\n",
    "w=y[y['HMP Isolation Body Site']>4]\n",
    "print(w)\n",
    "w.plot(kind='bar')\n",
    "plt.ylabel('Number of different body sites')\n",
    "plt.title('Number of habitats for different microorganisms')"
   ]
  },
  {
   "cell_type": "markdown",
   "metadata": {},
   "source": [
    "*the most ubiquitous organism found in this analysis is Staphylococcus, with 11 habitats- urogenital_tract, skin, airways, unknown, gastrointestinal_tract, nose, blood, bone, eye, ear, other*"
   ]
  },
  {
   "cell_type": "code",
   "execution_count": 122,
   "metadata": {},
   "outputs": [
    {
     "data": {
      "text/plain": [
       "532            Actinomyces phage vB_Ana_GK1\n",
       "2852    Pseudomonas phage F_HA0480sp/Pa1651\n",
       "2853                Pseudomonas phage JBD18\n",
       "2854                Pseudomonas phage JBD25\n",
       "2855                Pseudomonas phage JBD26\n",
       "2856                Pseudomonas phage JBD67\n",
       "Name: Organism Name, dtype: object"
      ]
     },
     "execution_count": 122,
     "metadata": {},
     "output_type": "execute_result"
    }
   ],
   "source": [
    "viruses= data[data['NCBI Superkingdom'] =='Viruses']\n",
    "viruses['Organism Name']"
   ]
  },
  {
   "cell_type": "code",
   "execution_count": 123,
   "metadata": {},
   "outputs": [
    {
     "data": {
      "text/plain": [
       "302    Methanobrevibacter smithii DSM 2374\n",
       "303    Methanobrevibacter smithii DSM 2375\n",
       "Name: Organism Name, dtype: object"
      ]
     },
     "execution_count": 123,
     "metadata": {},
     "output_type": "execute_result"
    }
   ],
   "source": [
    "archaea = data[data['NCBI Superkingdom']=='Archaea']\n",
    "archaea['Organism Name']"
   ]
  },
  {
   "cell_type": "code",
   "execution_count": 129,
   "metadata": {},
   "outputs": [
    {
     "data": {
      "text/html": [
       "<div>\n",
       "<style scoped>\n",
       "    .dataframe tbody tr th:only-of-type {\n",
       "        vertical-align: middle;\n",
       "    }\n",
       "\n",
       "    .dataframe tbody tr th {\n",
       "        vertical-align: top;\n",
       "    }\n",
       "\n",
       "    .dataframe thead th {\n",
       "        text-align: right;\n",
       "    }\n",
       "</style>\n",
       "<table border=\"1\" class=\"dataframe\">\n",
       "  <thead>\n",
       "    <tr style=\"text-align: right;\">\n",
       "      <th></th>\n",
       "      <th>HMP ID</th>\n",
       "      <th>GOLD ID</th>\n",
       "      <th>Organism Name</th>\n",
       "      <th>Domain</th>\n",
       "      <th>NCBI Superkingdom</th>\n",
       "      <th>HMP Isolation Body Site</th>\n",
       "      <th>Project Status</th>\n",
       "      <th>Current Finishing Level</th>\n",
       "      <th>NCBI Submission Status</th>\n",
       "      <th>NCBI Project ID</th>\n",
       "      <th>Genbank ID</th>\n",
       "      <th>Gene Count</th>\n",
       "      <th>IMG/HMP ID</th>\n",
       "      <th>HOMD ID</th>\n",
       "      <th>Sequencing Center</th>\n",
       "      <th>Funding Source</th>\n",
       "      <th>Strain Repository ID</th>\n",
       "      <th>Genus</th>\n",
       "    </tr>\n",
       "  </thead>\n",
       "  <tbody>\n",
       "    <tr>\n",
       "      <th>679</th>\n",
       "      <td>1211</td>\n",
       "      <td>Gi10716</td>\n",
       "      <td>Streptomyces sp. HGB0020</td>\n",
       "      <td>BACTERIAL</td>\n",
       "      <td>Bacteria</td>\n",
       "      <td>gastrointestinal_tract</td>\n",
       "      <td>Complete</td>\n",
       "      <td>Level 2: High-Quality Draft</td>\n",
       "      <td>6. annotation (and sequence) public on NCBI site</td>\n",
       "      <td>72491</td>\n",
       "      <td>AGER00000000</td>\n",
       "      <td>8490</td>\n",
       "      <td>0</td>\n",
       "      <td>NaN</td>\n",
       "      <td>Broad Institute</td>\n",
       "      <td>NIH-HMP Sequencing Center</td>\n",
       "      <td>BEI HM-789</td>\n",
       "      <td>Streptomyces</td>\n",
       "    </tr>\n",
       "  </tbody>\n",
       "</table>\n",
       "</div>"
      ],
      "text/plain": [
       "     HMP ID  GOLD ID             Organism Name     Domain NCBI Superkingdom  \\\n",
       "679    1211  Gi10716  Streptomyces sp. HGB0020  BACTERIAL          Bacteria   \n",
       "\n",
       "    HMP Isolation Body Site Project Status      Current Finishing Level  \\\n",
       "679  gastrointestinal_tract       Complete  Level 2: High-Quality Draft   \n",
       "\n",
       "                               NCBI Submission Status  NCBI Project ID  \\\n",
       "679  6. annotation (and sequence) public on NCBI site            72491   \n",
       "\n",
       "       Genbank ID  Gene Count  IMG/HMP ID HOMD ID Sequencing Center  \\\n",
       "679  AGER00000000        8490           0     NaN   Broad Institute   \n",
       "\n",
       "                Funding Source Strain Repository ID         Genus  \n",
       "679  NIH-HMP Sequencing Center           BEI HM-789  Streptomyces  "
      ]
     },
     "execution_count": 129,
     "metadata": {},
     "output_type": "execute_result"
    }
   ],
   "source": [
    "max(data['Gene Count'])  \n",
    "data[data['Gene Count']==8490]"
   ]
  },
  {
   "cell_type": "markdown",
   "metadata": {},
   "source": [
    "*Streptomyces sp. HGB0020 has the highest number og genes*"
   ]
  },
  {
   "cell_type": "markdown",
   "metadata": {},
   "source": [
    "*In this kernel we have performed EDA of the Human Microbiome dataset.\n",
    "Gastrointestine shows most diversity of microbes\n",
    "Streptomyces sp. HGB0020 shows the maximum gene count in human,\n",
    "Streptococcus is most common genus while Staphylococcus is most ubiquitous in humans*"
   ]
  },
  {
   "cell_type": "code",
   "execution_count": null,
   "metadata": {},
   "outputs": [],
   "source": []
  }
 ],
 "metadata": {
  "kernelspec": {
   "display_name": "Python 3",
   "language": "python",
   "name": "python3"
  },
  "language_info": {
   "codemirror_mode": {
    "name": "ipython",
    "version": 3
   },
   "file_extension": ".py",
   "mimetype": "text/x-python",
   "name": "python",
   "nbconvert_exporter": "python",
   "pygments_lexer": "ipython3",
   "version": "3.7.4"
  }
 },
 "nbformat": 4,
 "nbformat_minor": 2
}
